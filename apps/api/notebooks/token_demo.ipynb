{
 "cells": [
  {
   "cell_type": "markdown",
   "id": "d6c15803",
   "metadata": {},
   "source": [
    "# Tokenization Demo with Hugging Face Transformers\n",
    "\n",
    "This notebook demonstrates how to tokenize text and convert tokens to IDs using the BERT base uncased tokenizer from Hugging Face Transformers."
   ]
  },
  {
   "cell_type": "code",
   "execution_count": null,
   "id": "730f7ddc",
   "metadata": {},
   "outputs": [],
   "source": [
    "# Install transformers if not already installed\n",
    "!pip install -q transformers"
   ]
  },
  {
   "cell_type": "code",
   "execution_count": null,
   "id": "11056cc2",
   "metadata": {},
   "outputs": [],
   "source": [
    "from transformers import AutoTokenizer"
   ]
  },
  {
   "cell_type": "code",
   "execution_count": null,
   "id": "ea364617",
   "metadata": {},
   "outputs": [],
   "source": [
    "# Load the BERT base uncased tokenizer\n",
    "\n",
    "tok = AutoTokenizer.from_pretrained(\"bert-base-uncased\")"
   ]
  },
  {
   "cell_type": "code",
   "execution_count": null,
   "id": "bc178ebd",
   "metadata": {},
   "outputs": [],
   "source": [
    "# Tokenize sample text\n",
    "text = \"TravelG3n builds AI travel trips.\"\n",
    "tokens = tok.tokenize(text)"
   ]
  },
  {
   "cell_type": "code",
   "execution_count": null,
   "id": "799895c9",
   "metadata": {},
   "outputs": [],
   "source": [
    "# Convert tokens to IDs\n",
    "ids = tok.convert_tokens_to_ids(tokens)"
   ]
  },
  {
   "cell_type": "code",
   "execution_count": null,
   "id": "17450dea",
   "metadata": {},
   "outputs": [],
   "source": [
    "# Display results\n",
    "print(\"Text:\", text)\n",
    "print(\"Tokens:\", tokens)\n",
    "print(\"IDs:\", ids)"
   ]
  }
 ],
 "metadata": {
  "language_info": {
   "name": "python"
  }
 },
 "nbformat": 4,
 "nbformat_minor": 5
}
